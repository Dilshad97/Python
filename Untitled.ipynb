{
 "cells": [
  {
   "cell_type": "code",
   "execution_count": 1,
   "metadata": {},
   "outputs": [
    {
     "name": "stdout",
     "output_type": "stream",
     "text": [
      "Requirement already satisfied: ipython in c:\\users\\dilshu\\anaconda3\\lib\\site-packages (7.4.0)\n",
      "Requirement already satisfied: pygments in c:\\users\\dilshu\\anaconda3\\lib\\site-packages (from ipython) (2.3.1)\n",
      "Requirement already satisfied: colorama; sys_platform == \"win32\" in c:\\users\\dilshu\\anaconda3\\lib\\site-packages (from ipython) (0.4.1)\n",
      "Requirement already satisfied: jedi>=0.10 in c:\\users\\dilshu\\anaconda3\\lib\\site-packages (from ipython) (0.13.3)\n",
      "Requirement already satisfied: backcall in c:\\users\\dilshu\\anaconda3\\lib\\site-packages (from ipython) (0.1.0)\n",
      "Requirement already satisfied: pickleshare in c:\\users\\dilshu\\anaconda3\\lib\\site-packages (from ipython) (0.7.5)\n",
      "Requirement already satisfied: traitlets>=4.2 in c:\\users\\dilshu\\anaconda3\\lib\\site-packages (from ipython) (4.3.2)\n",
      "Requirement already satisfied: prompt-toolkit<2.1.0,>=2.0.0 in c:\\users\\dilshu\\anaconda3\\lib\\site-packages (from ipython) (2.0.9)\n",
      "Requirement already satisfied: decorator in c:\\users\\dilshu\\anaconda3\\lib\\site-packages (from ipython) (4.4.0)\n",
      "Requirement already satisfied: setuptools>=18.5 in c:\\users\\dilshu\\anaconda3\\lib\\site-packages (from ipython) (40.8.0)\n",
      "Requirement already satisfied: parso>=0.3.0 in c:\\users\\dilshu\\anaconda3\\lib\\site-packages (from jedi>=0.10->ipython) (0.3.4)\n",
      "Requirement already satisfied: ipython-genutils in c:\\users\\dilshu\\anaconda3\\lib\\site-packages (from traitlets>=4.2->ipython) (0.2.0)\n",
      "Requirement already satisfied: six in c:\\users\\dilshu\\anaconda3\\lib\\site-packages (from traitlets>=4.2->ipython) (1.12.0)\n",
      "Requirement already satisfied: wcwidth in c:\\users\\dilshu\\anaconda3\\lib\\site-packages (from prompt-toolkit<2.1.0,>=2.0.0->ipython) (0.1.7)\n",
      "Note: you may need to restart the kernel to use updated packages.\n"
     ]
    }
   ],
   "source": [
    "pip install ipython\n"
   ]
  },
  {
   "cell_type": "code",
   "execution_count": 2,
   "metadata": {},
   "outputs": [
    {
     "name": "stdout",
     "output_type": "stream",
     "text": [
      "Requirement already satisfied: nbconvert in c:\\users\\dilshu\\anaconda3\\lib\\site-packages (5.4.1)\n",
      "Requirement already satisfied: mistune>=0.8.1 in c:\\users\\dilshu\\anaconda3\\lib\\site-packages (from nbconvert) (0.8.4)\n",
      "Requirement already satisfied: jinja2 in c:\\users\\dilshu\\anaconda3\\lib\\site-packages (from nbconvert) (2.10)\n",
      "Requirement already satisfied: pygments in c:\\users\\dilshu\\anaconda3\\lib\\site-packages (from nbconvert) (2.3.1)\n",
      "Requirement already satisfied: traitlets>=4.2 in c:\\users\\dilshu\\anaconda3\\lib\\site-packages (from nbconvert) (4.3.2)\n",
      "Requirement already satisfied: jupyter_core in c:\\users\\dilshu\\anaconda3\\lib\\site-packages (from nbconvert) (4.4.0)\n",
      "Requirement already satisfied: nbformat>=4.4 in c:\\users\\dilshu\\anaconda3\\lib\\site-packages (from nbconvert) (4.4.0)\n",
      "Requirement already satisfied: entrypoints>=0.2.2 in c:\\users\\dilshu\\anaconda3\\lib\\site-packages (from nbconvert) (0.3)\n",
      "Requirement already satisfied: bleach in c:\\users\\dilshu\\anaconda3\\lib\\site-packages (from nbconvert) (3.1.0)\n",
      "Requirement already satisfied: pandocfilters>=1.4.1 in c:\\users\\dilshu\\anaconda3\\lib\\site-packages (from nbconvert) (1.4.2)\n",
      "Requirement already satisfied: testpath in c:\\users\\dilshu\\anaconda3\\lib\\site-packages (from nbconvert) (0.4.2)\n",
      "Requirement already satisfied: defusedxml in c:\\users\\dilshu\\anaconda3\\lib\\site-packages (from nbconvert) (0.5.0)\n",
      "Requirement already satisfied: MarkupSafe>=0.23 in c:\\users\\dilshu\\anaconda3\\lib\\site-packages (from jinja2->nbconvert) (1.1.1)\n",
      "Requirement already satisfied: six in c:\\users\\dilshu\\anaconda3\\lib\\site-packages (from traitlets>=4.2->nbconvert) (1.12.0)\n",
      "Requirement already satisfied: decorator in c:\\users\\dilshu\\anaconda3\\lib\\site-packages (from traitlets>=4.2->nbconvert) (4.4.0)\n",
      "Requirement already satisfied: ipython-genutils in c:\\users\\dilshu\\anaconda3\\lib\\site-packages (from traitlets>=4.2->nbconvert) (0.2.0)\n",
      "Requirement already satisfied: jsonschema!=2.5.0,>=2.4 in c:\\users\\dilshu\\anaconda3\\lib\\site-packages (from nbformat>=4.4->nbconvert) (3.0.1)\n",
      "Requirement already satisfied: webencodings in c:\\users\\dilshu\\anaconda3\\lib\\site-packages (from bleach->nbconvert) (0.5.1)\n",
      "Requirement already satisfied: attrs>=17.4.0 in c:\\users\\dilshu\\anaconda3\\lib\\site-packages (from jsonschema!=2.5.0,>=2.4->nbformat>=4.4->nbconvert) (19.1.0)\n",
      "Requirement already satisfied: pyrsistent>=0.14.0 in c:\\users\\dilshu\\anaconda3\\lib\\site-packages (from jsonschema!=2.5.0,>=2.4->nbformat>=4.4->nbconvert) (0.14.11)\n",
      "Requirement already satisfied: setuptools in c:\\users\\dilshu\\anaconda3\\lib\\site-packages (from jsonschema!=2.5.0,>=2.4->nbformat>=4.4->nbconvert) (40.8.0)\n",
      "Note: you may need to restart the kernel to use updated packages.\n"
     ]
    }
   ],
   "source": [
    "pip install nbconvert\n"
   ]
  },
  {
   "cell_type": "code",
   "execution_count": 10,
   "metadata": {},
   "outputs": [
    {
     "ename": "IndentationError",
     "evalue": "unexpected indent (<ipython-input-10-be60f1ed23b9>, line 2)",
     "output_type": "error",
     "traceback": [
      "\u001b[1;36m  File \u001b[1;32m\"<ipython-input-10-be60f1ed23b9>\"\u001b[1;36m, line \u001b[1;32m2\u001b[0m\n\u001b[1;33m    ipython nbconvert --to script air_pollution.ipynb\u001b[0m\n\u001b[1;37m    ^\u001b[0m\n\u001b[1;31mIndentationError\u001b[0m\u001b[1;31m:\u001b[0m unexpected indent\n"
     ]
    }
   ],
   "source": [
    "#pip install nbconvert\n",
    " ipython nbconvert --to script air_pollution.ipynb"
   ]
  }
 ],
 "metadata": {
  "kernelspec": {
   "display_name": "Python 3",
   "language": "python",
   "name": "python3"
  },
  "language_info": {
   "codemirror_mode": {
    "name": "ipython",
    "version": 3
   },
   "file_extension": ".py",
   "mimetype": "text/x-python",
   "name": "python",
   "nbconvert_exporter": "python",
   "pygments_lexer": "ipython3",
   "version": "3.7.3"
  }
 },
 "nbformat": 4,
 "nbformat_minor": 2
}
